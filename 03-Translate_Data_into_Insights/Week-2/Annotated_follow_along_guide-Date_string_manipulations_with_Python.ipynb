{
 "cells": [
  {
   "cell_type": "markdown",
   "metadata": {
    "id": "69783gzunQEp"
   },
   "source": [
    "# Annotated follow-along guide: Date string manipulations with Python"
   ]
  },
  {
   "cell_type": "markdown",
   "metadata": {},
   "source": [
    "This notebook contains the code used in the following instructional video: [Date string manipulations with Python](https://www.coursera.org/learn/go-beyond-the-numbers-translate-data-into-insight/lecture/0GjvK/date-string-manipulations-with-python)"
   ]
  },
  {
   "cell_type": "markdown",
   "metadata": {},
   "source": [
    "## Introduction"
   ]
  },
  {
   "cell_type": "markdown",
   "metadata": {
    "id": "PMRbG2k_FJFj"
   },
   "source": [
    "Throughout this notebook, we will practice manipulating date strings in Python. Before getting started, watch the associated instructional video and complete the in-video question. All of the code we will be implementing and related instructions are contained in this notebook."
   ]
  },
  {
   "cell_type": "markdown",
   "metadata": {},
   "source": [
    "## Overview\n",
    "\n",
    "In this notebook, we will work with 2016–2018 lightning strike data from the National Oceanic and Atmospheric Association (NOAA) to calculate weekly sums of lightning strikes and plot them on a bar graph. Then, we will calculate quarterly lightning strike totals and plot them on bar graphs."
   ]
  },
  {
   "cell_type": "markdown",
   "metadata": {},
   "source": [
    "## Import packages and libraries"
   ]
  },
  {
   "cell_type": "markdown",
   "metadata": {
    "id": "JAh01LamFJFt"
   },
   "source": [
    "Before getting started, we will need to import all the required libraries and extensions. Throughout the course, we will be using pandas for operations, and matplotlib and seaborn for plotting."
   ]
  },
  {
   "cell_type": "code",
   "execution_count": 47,
   "metadata": {
    "id": "TiZxf5dvGcXB"
   },
   "outputs": [],
   "source": [
    "# Import statements\n",
    "import matplotlib.pyplot as plt\n",
    "import pandas as pd\n",
    "import seaborn as sns"
   ]
  },
  {
   "cell_type": "code",
   "execution_count": 48,
   "metadata": {
    "id": "Bsgc4dX4BWOA"
   },
   "outputs": [
    {
     "data": {
      "text/html": [
       "<div>\n",
       "<style scoped>\n",
       "    .dataframe tbody tr th:only-of-type {\n",
       "        vertical-align: middle;\n",
       "    }\n",
       "\n",
       "    .dataframe tbody tr th {\n",
       "        vertical-align: top;\n",
       "    }\n",
       "\n",
       "    .dataframe thead th {\n",
       "        text-align: right;\n",
       "    }\n",
       "</style>\n",
       "<table border=\"1\" class=\"dataframe\">\n",
       "  <thead>\n",
       "    <tr style=\"text-align: right;\">\n",
       "      <th></th>\n",
       "      <th>date</th>\n",
       "      <th>number_of_strikes</th>\n",
       "      <th>center_point_geom</th>\n",
       "    </tr>\n",
       "  </thead>\n",
       "  <tbody>\n",
       "    <tr>\n",
       "      <th>0</th>\n",
       "      <td>2016-08-05</td>\n",
       "      <td>16</td>\n",
       "      <td>POINT(-101.5 24.7)</td>\n",
       "    </tr>\n",
       "    <tr>\n",
       "      <th>1</th>\n",
       "      <td>2016-08-05</td>\n",
       "      <td>16</td>\n",
       "      <td>POINT(-85 34.3)</td>\n",
       "    </tr>\n",
       "    <tr>\n",
       "      <th>2</th>\n",
       "      <td>2016-08-05</td>\n",
       "      <td>16</td>\n",
       "      <td>POINT(-89 41.4)</td>\n",
       "    </tr>\n",
       "    <tr>\n",
       "      <th>3</th>\n",
       "      <td>2016-08-05</td>\n",
       "      <td>16</td>\n",
       "      <td>POINT(-89.8 30.7)</td>\n",
       "    </tr>\n",
       "    <tr>\n",
       "      <th>4</th>\n",
       "      <td>2016-08-05</td>\n",
       "      <td>16</td>\n",
       "      <td>POINT(-86.2 37.9)</td>\n",
       "    </tr>\n",
       "    <tr>\n",
       "      <th>...</th>\n",
       "      <td>...</td>\n",
       "      <td>...</td>\n",
       "      <td>...</td>\n",
       "    </tr>\n",
       "    <tr>\n",
       "      <th>10478998</th>\n",
       "      <td>2018-05-27</td>\n",
       "      <td>13</td>\n",
       "      <td>POINT(-111.3 41)</td>\n",
       "    </tr>\n",
       "    <tr>\n",
       "      <th>10478999</th>\n",
       "      <td>2018-05-27</td>\n",
       "      <td>13</td>\n",
       "      <td>POINT(-109.4 43.4)</td>\n",
       "    </tr>\n",
       "    <tr>\n",
       "      <th>10479000</th>\n",
       "      <td>2018-05-27</td>\n",
       "      <td>13</td>\n",
       "      <td>POINT(-104.2 50)</td>\n",
       "    </tr>\n",
       "    <tr>\n",
       "      <th>10479001</th>\n",
       "      <td>2018-05-27</td>\n",
       "      <td>13</td>\n",
       "      <td>POINT(-88.7 36.4)</td>\n",
       "    </tr>\n",
       "    <tr>\n",
       "      <th>10479002</th>\n",
       "      <td>2018-05-27</td>\n",
       "      <td>13</td>\n",
       "      <td>POINT(-87.1 44.9)</td>\n",
       "    </tr>\n",
       "  </tbody>\n",
       "</table>\n",
       "<p>10479003 rows × 3 columns</p>\n",
       "</div>"
      ],
      "text/plain": [
       "                date  number_of_strikes   center_point_geom\n",
       "0         2016-08-05                 16  POINT(-101.5 24.7)\n",
       "1         2016-08-05                 16     POINT(-85 34.3)\n",
       "2         2016-08-05                 16     POINT(-89 41.4)\n",
       "3         2016-08-05                 16   POINT(-89.8 30.7)\n",
       "4         2016-08-05                 16   POINT(-86.2 37.9)\n",
       "...              ...                ...                 ...\n",
       "10478998  2018-05-27                 13    POINT(-111.3 41)\n",
       "10478999  2018-05-27                 13  POINT(-109.4 43.4)\n",
       "10479000  2018-05-27                 13    POINT(-104.2 50)\n",
       "10479001  2018-05-27                 13   POINT(-88.7 36.4)\n",
       "10479002  2018-05-27                 13   POINT(-87.1 44.9)\n",
       "\n",
       "[10479003 rows x 3 columns]"
      ]
     },
     "execution_count": 48,
     "metadata": {},
     "output_type": "execute_result"
    }
   ],
   "source": [
    "# Read in the data.\n",
    "df = pd.read_csv('eda_manipulate_date_strings_with_python.csv')\n",
    "df"
   ]
  },
  {
   "cell_type": "code",
   "execution_count": 49,
   "metadata": {},
   "outputs": [
    {
     "name": "stdout",
     "output_type": "stream",
     "text": [
      "<class 'pandas.core.frame.DataFrame'>\n",
      "RangeIndex: 10479003 entries, 0 to 10479002\n",
      "Data columns (total 3 columns):\n",
      " #   Column             Dtype \n",
      "---  ------             ----- \n",
      " 0   date               object\n",
      " 1   number_of_strikes  int64 \n",
      " 2   center_point_geom  object\n",
      "dtypes: int64(1), object(2)\n",
      "memory usage: 239.8+ MB\n"
     ]
    }
   ],
   "source": [
    "df.info()"
   ]
  },
  {
   "cell_type": "markdown",
   "metadata": {
    "id": "iiVSolnEm6A5"
   },
   "source": [
    "## Create new time columns"
   ]
  },
  {
   "cell_type": "markdown",
   "metadata": {
    "id": "hKWRq_huIvEE"
   },
   "source": [
    "As with similar datasets you have worked with, the `date` column data type is a string object, which limits what you can do with the data in this column. Converting the column to datetime will enable you to work with this data much more easily.  "
   ]
  },
  {
   "cell_type": "code",
   "execution_count": 50,
   "metadata": {
    "id": "3Mkui6ErGNdw"
   },
   "outputs": [],
   "source": [
    "# Convert the `date` column to datetime.\n",
    "df['date'] = pd.to_datetime(df['date'])"
   ]
  },
  {
   "cell_type": "code",
   "execution_count": 51,
   "metadata": {},
   "outputs": [
    {
     "data": {
      "text/html": [
       "<div>\n",
       "<style scoped>\n",
       "    .dataframe tbody tr th:only-of-type {\n",
       "        vertical-align: middle;\n",
       "    }\n",
       "\n",
       "    .dataframe tbody tr th {\n",
       "        vertical-align: top;\n",
       "    }\n",
       "\n",
       "    .dataframe thead th {\n",
       "        text-align: right;\n",
       "    }\n",
       "</style>\n",
       "<table border=\"1\" class=\"dataframe\">\n",
       "  <thead>\n",
       "    <tr style=\"text-align: right;\">\n",
       "      <th></th>\n",
       "      <th>date</th>\n",
       "      <th>number_of_strikes</th>\n",
       "      <th>center_point_geom</th>\n",
       "    </tr>\n",
       "  </thead>\n",
       "  <tbody>\n",
       "    <tr>\n",
       "      <th>0</th>\n",
       "      <td>2016-08-05</td>\n",
       "      <td>16</td>\n",
       "      <td>POINT(-101.5 24.7)</td>\n",
       "    </tr>\n",
       "    <tr>\n",
       "      <th>1</th>\n",
       "      <td>2016-08-05</td>\n",
       "      <td>16</td>\n",
       "      <td>POINT(-85 34.3)</td>\n",
       "    </tr>\n",
       "    <tr>\n",
       "      <th>2</th>\n",
       "      <td>2016-08-05</td>\n",
       "      <td>16</td>\n",
       "      <td>POINT(-89 41.4)</td>\n",
       "    </tr>\n",
       "    <tr>\n",
       "      <th>3</th>\n",
       "      <td>2016-08-05</td>\n",
       "      <td>16</td>\n",
       "      <td>POINT(-89.8 30.7)</td>\n",
       "    </tr>\n",
       "    <tr>\n",
       "      <th>4</th>\n",
       "      <td>2016-08-05</td>\n",
       "      <td>16</td>\n",
       "      <td>POINT(-86.2 37.9)</td>\n",
       "    </tr>\n",
       "    <tr>\n",
       "      <th>...</th>\n",
       "      <td>...</td>\n",
       "      <td>...</td>\n",
       "      <td>...</td>\n",
       "    </tr>\n",
       "    <tr>\n",
       "      <th>10478998</th>\n",
       "      <td>2018-05-27</td>\n",
       "      <td>13</td>\n",
       "      <td>POINT(-111.3 41)</td>\n",
       "    </tr>\n",
       "    <tr>\n",
       "      <th>10478999</th>\n",
       "      <td>2018-05-27</td>\n",
       "      <td>13</td>\n",
       "      <td>POINT(-109.4 43.4)</td>\n",
       "    </tr>\n",
       "    <tr>\n",
       "      <th>10479000</th>\n",
       "      <td>2018-05-27</td>\n",
       "      <td>13</td>\n",
       "      <td>POINT(-104.2 50)</td>\n",
       "    </tr>\n",
       "    <tr>\n",
       "      <th>10479001</th>\n",
       "      <td>2018-05-27</td>\n",
       "      <td>13</td>\n",
       "      <td>POINT(-88.7 36.4)</td>\n",
       "    </tr>\n",
       "    <tr>\n",
       "      <th>10479002</th>\n",
       "      <td>2018-05-27</td>\n",
       "      <td>13</td>\n",
       "      <td>POINT(-87.1 44.9)</td>\n",
       "    </tr>\n",
       "  </tbody>\n",
       "</table>\n",
       "<p>10479003 rows × 3 columns</p>\n",
       "</div>"
      ],
      "text/plain": [
       "               date  number_of_strikes   center_point_geom\n",
       "0        2016-08-05                 16  POINT(-101.5 24.7)\n",
       "1        2016-08-05                 16     POINT(-85 34.3)\n",
       "2        2016-08-05                 16     POINT(-89 41.4)\n",
       "3        2016-08-05                 16   POINT(-89.8 30.7)\n",
       "4        2016-08-05                 16   POINT(-86.2 37.9)\n",
       "...             ...                ...                 ...\n",
       "10478998 2018-05-27                 13    POINT(-111.3 41)\n",
       "10478999 2018-05-27                 13  POINT(-109.4 43.4)\n",
       "10479000 2018-05-27                 13    POINT(-104.2 50)\n",
       "10479001 2018-05-27                 13   POINT(-88.7 36.4)\n",
       "10479002 2018-05-27                 13   POINT(-87.1 44.9)\n",
       "\n",
       "[10479003 rows x 3 columns]"
      ]
     },
     "execution_count": 51,
     "metadata": {},
     "output_type": "execute_result"
    }
   ],
   "source": [
    "df"
   ]
  },
  {
   "cell_type": "markdown",
   "metadata": {},
   "source": [
    "Next, let's create four new columns: `week`, `month`, `quarter`, and `year`. We can do this by using the `datetime.strftime()` method of the datetime object. `strftime` is short for \"string format time.\" We will use this method on the datetime data in the `week` column, and it will extract the information we specify, formatted as a string. \n",
    "\n",
    "To specify the information to extract, we will use strftime format codes. You can find a full list of available codes to use in the [strftime format codes documentation](https://docs.python.org/3/library/datetime.html#strftime-and-strptime-behavior). In this case, we will use `%Y` for year, `%V` for week number, `%q` for quarter.\n",
    "\n",
    "**NOTE:** The following process might take a minute or two to complete."
   ]
  },
  {
   "cell_type": "code",
   "execution_count": 52,
   "metadata": {},
   "outputs": [
    {
     "data": {
      "text/plain": [
       "dtype('<M8[ns]')"
      ]
     },
     "execution_count": 52,
     "metadata": {},
     "output_type": "execute_result"
    }
   ],
   "source": [
    "df[\"date\"].dtype"
   ]
  },
  {
   "cell_type": "code",
   "execution_count": 53,
   "metadata": {},
   "outputs": [
    {
     "data": {
      "text/plain": [
       "0    2016-W31\n",
       "1    2016-W31\n",
       "2    2016-W31\n",
       "3    2016-W31\n",
       "4    2016-W31\n",
       "Name: week, dtype: object"
      ]
     },
     "execution_count": 53,
     "metadata": {},
     "output_type": "execute_result"
    }
   ],
   "source": [
    "df[\"week\"] = df[\"date\"].dt.strftime(\"%Y-W%V\")\n",
    "df[\"week\"].head()"
   ]
  },
  {
   "cell_type": "code",
   "execution_count": 54,
   "metadata": {},
   "outputs": [
    {
     "data": {
      "text/plain": [
       "0    2016-08\n",
       "1    2016-08\n",
       "2    2016-08\n",
       "3    2016-08\n",
       "4    2016-08\n",
       "Name: month, dtype: object"
      ]
     },
     "execution_count": 54,
     "metadata": {},
     "output_type": "execute_result"
    }
   ],
   "source": [
    "df[\"month\"] = df[\"date\"].dt.strftime(\"%Y-%m\")\n",
    "df[\"month\"].head()"
   ]
  },
  {
   "cell_type": "code",
   "execution_count": 55,
   "metadata": {},
   "outputs": [
    {
     "data": {
      "text/plain": [
       "0    2016-Q3\n",
       "1    2016-Q3\n",
       "2    2016-Q3\n",
       "3    2016-Q3\n",
       "4    2016-Q3\n",
       "Name: quarter, dtype: object"
      ]
     },
     "execution_count": 55,
     "metadata": {},
     "output_type": "execute_result"
    }
   ],
   "source": [
    "df[\"quarter\"] = df[\"date\"].dt.to_period(\"Q\").dt.strftime(\"%Y-Q%q\")\n",
    "df[\"quarter\"].head()"
   ]
  },
  {
   "cell_type": "code",
   "execution_count": 56,
   "metadata": {},
   "outputs": [
    {
     "data": {
      "text/plain": [
       "0    2016\n",
       "1    2016\n",
       "2    2016\n",
       "3    2016\n",
       "4    2016\n",
       "Name: year, dtype: object"
      ]
     },
     "execution_count": 56,
     "metadata": {},
     "output_type": "execute_result"
    }
   ],
   "source": [
    "df[\"year\"] = df[\"date\"].dt.strftime(\"%Y\")\n",
    "df[\"year\"].head()"
   ]
  },
  {
   "cell_type": "markdown",
   "metadata": {
    "id": "i6zkE-8mFJF0"
   },
   "source": [
    "Let's use `head()` to check that the columns were created as intended."
   ]
  },
  {
   "cell_type": "code",
   "execution_count": 57,
   "metadata": {
    "colab": {
     "base_uri": "https://localhost:8080/",
     "height": 363
    },
    "id": "33mC6vcg-_5W",
    "outputId": "2060fc81-9764-4bd6-9407-51960329e657"
   },
   "outputs": [
    {
     "data": {
      "text/html": [
       "<div>\n",
       "<style scoped>\n",
       "    .dataframe tbody tr th:only-of-type {\n",
       "        vertical-align: middle;\n",
       "    }\n",
       "\n",
       "    .dataframe tbody tr th {\n",
       "        vertical-align: top;\n",
       "    }\n",
       "\n",
       "    .dataframe thead th {\n",
       "        text-align: right;\n",
       "    }\n",
       "</style>\n",
       "<table border=\"1\" class=\"dataframe\">\n",
       "  <thead>\n",
       "    <tr style=\"text-align: right;\">\n",
       "      <th></th>\n",
       "      <th>date</th>\n",
       "      <th>number_of_strikes</th>\n",
       "      <th>center_point_geom</th>\n",
       "      <th>week</th>\n",
       "      <th>month</th>\n",
       "      <th>quarter</th>\n",
       "      <th>year</th>\n",
       "    </tr>\n",
       "  </thead>\n",
       "  <tbody>\n",
       "    <tr>\n",
       "      <th>0</th>\n",
       "      <td>2016-08-05</td>\n",
       "      <td>16</td>\n",
       "      <td>POINT(-101.5 24.7)</td>\n",
       "      <td>2016-W31</td>\n",
       "      <td>2016-08</td>\n",
       "      <td>2016-Q3</td>\n",
       "      <td>2016</td>\n",
       "    </tr>\n",
       "    <tr>\n",
       "      <th>1</th>\n",
       "      <td>2016-08-05</td>\n",
       "      <td>16</td>\n",
       "      <td>POINT(-85 34.3)</td>\n",
       "      <td>2016-W31</td>\n",
       "      <td>2016-08</td>\n",
       "      <td>2016-Q3</td>\n",
       "      <td>2016</td>\n",
       "    </tr>\n",
       "    <tr>\n",
       "      <th>2</th>\n",
       "      <td>2016-08-05</td>\n",
       "      <td>16</td>\n",
       "      <td>POINT(-89 41.4)</td>\n",
       "      <td>2016-W31</td>\n",
       "      <td>2016-08</td>\n",
       "      <td>2016-Q3</td>\n",
       "      <td>2016</td>\n",
       "    </tr>\n",
       "    <tr>\n",
       "      <th>3</th>\n",
       "      <td>2016-08-05</td>\n",
       "      <td>16</td>\n",
       "      <td>POINT(-89.8 30.7)</td>\n",
       "      <td>2016-W31</td>\n",
       "      <td>2016-08</td>\n",
       "      <td>2016-Q3</td>\n",
       "      <td>2016</td>\n",
       "    </tr>\n",
       "    <tr>\n",
       "      <th>4</th>\n",
       "      <td>2016-08-05</td>\n",
       "      <td>16</td>\n",
       "      <td>POINT(-86.2 37.9)</td>\n",
       "      <td>2016-W31</td>\n",
       "      <td>2016-08</td>\n",
       "      <td>2016-Q3</td>\n",
       "      <td>2016</td>\n",
       "    </tr>\n",
       "    <tr>\n",
       "      <th>5</th>\n",
       "      <td>2016-08-05</td>\n",
       "      <td>16</td>\n",
       "      <td>POINT(-97.8 38.9)</td>\n",
       "      <td>2016-W31</td>\n",
       "      <td>2016-08</td>\n",
       "      <td>2016-Q3</td>\n",
       "      <td>2016</td>\n",
       "    </tr>\n",
       "    <tr>\n",
       "      <th>6</th>\n",
       "      <td>2016-08-05</td>\n",
       "      <td>16</td>\n",
       "      <td>POINT(-81.9 36)</td>\n",
       "      <td>2016-W31</td>\n",
       "      <td>2016-08</td>\n",
       "      <td>2016-Q3</td>\n",
       "      <td>2016</td>\n",
       "    </tr>\n",
       "    <tr>\n",
       "      <th>7</th>\n",
       "      <td>2016-08-05</td>\n",
       "      <td>16</td>\n",
       "      <td>POINT(-90.9 36.7)</td>\n",
       "      <td>2016-W31</td>\n",
       "      <td>2016-08</td>\n",
       "      <td>2016-Q3</td>\n",
       "      <td>2016</td>\n",
       "    </tr>\n",
       "    <tr>\n",
       "      <th>8</th>\n",
       "      <td>2016-08-05</td>\n",
       "      <td>16</td>\n",
       "      <td>POINT(-106.6 26.1)</td>\n",
       "      <td>2016-W31</td>\n",
       "      <td>2016-08</td>\n",
       "      <td>2016-Q3</td>\n",
       "      <td>2016</td>\n",
       "    </tr>\n",
       "    <tr>\n",
       "      <th>9</th>\n",
       "      <td>2016-08-05</td>\n",
       "      <td>16</td>\n",
       "      <td>POINT(-108 31.6)</td>\n",
       "      <td>2016-W31</td>\n",
       "      <td>2016-08</td>\n",
       "      <td>2016-Q3</td>\n",
       "      <td>2016</td>\n",
       "    </tr>\n",
       "  </tbody>\n",
       "</table>\n",
       "</div>"
      ],
      "text/plain": [
       "        date  number_of_strikes   center_point_geom      week    month  \\\n",
       "0 2016-08-05                 16  POINT(-101.5 24.7)  2016-W31  2016-08   \n",
       "1 2016-08-05                 16     POINT(-85 34.3)  2016-W31  2016-08   \n",
       "2 2016-08-05                 16     POINT(-89 41.4)  2016-W31  2016-08   \n",
       "3 2016-08-05                 16   POINT(-89.8 30.7)  2016-W31  2016-08   \n",
       "4 2016-08-05                 16   POINT(-86.2 37.9)  2016-W31  2016-08   \n",
       "5 2016-08-05                 16   POINT(-97.8 38.9)  2016-W31  2016-08   \n",
       "6 2016-08-05                 16     POINT(-81.9 36)  2016-W31  2016-08   \n",
       "7 2016-08-05                 16   POINT(-90.9 36.7)  2016-W31  2016-08   \n",
       "8 2016-08-05                 16  POINT(-106.6 26.1)  2016-W31  2016-08   \n",
       "9 2016-08-05                 16    POINT(-108 31.6)  2016-W31  2016-08   \n",
       "\n",
       "   quarter  year  \n",
       "0  2016-Q3  2016  \n",
       "1  2016-Q3  2016  \n",
       "2  2016-Q3  2016  \n",
       "3  2016-Q3  2016  \n",
       "4  2016-Q3  2016  \n",
       "5  2016-Q3  2016  \n",
       "6  2016-Q3  2016  \n",
       "7  2016-Q3  2016  \n",
       "8  2016-Q3  2016  \n",
       "9  2016-Q3  2016  "
      ]
     },
     "execution_count": 57,
     "metadata": {},
     "output_type": "execute_result"
    }
   ],
   "source": [
    "df.head(10)"
   ]
  },
  {
   "cell_type": "markdown",
   "metadata": {
    "id": "6I5Qur7bnIXd"
   },
   "source": [
    "## Plot the number of weekly lightning strikes in 2018"
   ]
  },
  {
   "cell_type": "markdown",
   "metadata": {
    "id": "slxEJjRRIxi5"
   },
   "source": [
    "Next, we will plot the number of weekly lightning strikes. Let's start by filtering the original dataset to 2018. We will use the `groupby()` and `sum()` functions to get the number of strikes per week."
   ]
  },
  {
   "cell_type": "code",
   "execution_count": 82,
   "metadata": {},
   "outputs": [
    {
     "data": {
      "text/plain": [
       "array(['2016', '2018', '2017'], dtype=object)"
      ]
     },
     "execution_count": 82,
     "metadata": {},
     "output_type": "execute_result"
    }
   ],
   "source": [
    "df[\"year\"].unique()"
   ]
  },
  {
   "cell_type": "code",
   "execution_count": 84,
   "metadata": {
    "colab": {
     "base_uri": "https://localhost:8080/",
     "height": 339
    },
    "id": "XgmO4n-dNOr6",
    "outputId": "0df2cfad-fa1c-475b-99a8-86e135578853"
   },
   "outputs": [
    {
     "data": {
      "text/html": [
       "<div>\n",
       "<style scoped>\n",
       "    .dataframe tbody tr th:only-of-type {\n",
       "        vertical-align: middle;\n",
       "    }\n",
       "\n",
       "    .dataframe tbody tr th {\n",
       "        vertical-align: top;\n",
       "    }\n",
       "\n",
       "    .dataframe thead th {\n",
       "        text-align: right;\n",
       "    }\n",
       "</style>\n",
       "<table border=\"1\" class=\"dataframe\">\n",
       "  <thead>\n",
       "    <tr style=\"text-align: right;\">\n",
       "      <th></th>\n",
       "      <th>week</th>\n",
       "      <th>number_of_strikes</th>\n",
       "    </tr>\n",
       "  </thead>\n",
       "  <tbody>\n",
       "    <tr>\n",
       "      <th>0</th>\n",
       "      <td>2018-W01</td>\n",
       "      <td>34843</td>\n",
       "    </tr>\n",
       "    <tr>\n",
       "      <th>1</th>\n",
       "      <td>2018-W02</td>\n",
       "      <td>353425</td>\n",
       "    </tr>\n",
       "    <tr>\n",
       "      <th>2</th>\n",
       "      <td>2018-W03</td>\n",
       "      <td>37132</td>\n",
       "    </tr>\n",
       "    <tr>\n",
       "      <th>3</th>\n",
       "      <td>2018-W04</td>\n",
       "      <td>412772</td>\n",
       "    </tr>\n",
       "    <tr>\n",
       "      <th>4</th>\n",
       "      <td>2018-W05</td>\n",
       "      <td>34972</td>\n",
       "    </tr>\n",
       "  </tbody>\n",
       "</table>\n",
       "</div>"
      ],
      "text/plain": [
       "       week  number_of_strikes\n",
       "0  2018-W01              34843\n",
       "1  2018-W02             353425\n",
       "2  2018-W03              37132\n",
       "3  2018-W04             412772\n",
       "4  2018-W05              34972"
      ]
     },
     "execution_count": 84,
     "metadata": {},
     "output_type": "execute_result"
    }
   ],
   "source": [
    "# Create a new dataframe view of just 2018 data, summed by week.\n",
    "df_by_week_2018 = df[df['year'] == '2018'].groupby(['week'])[\"number_of_strikes\"].sum().reset_index()\n",
    "df_by_week_2018.head()"
   ]
  },
  {
   "cell_type": "markdown",
   "metadata": {
    "id": "_Dxh2L5AFJF4"
   },
   "source": [
    "Now we have a table of exactly what we need to plot the weekly lightning strike totals of 2018. We will use the `plt.bar()` function to plot the bar graph. Within the argument field, let's input the x-axis (the `week` column), then input the y-axis (or height) as the `number_of_strikes` column. \n",
    "\n",
    "We will use `plt.xlabel()`, `plt.ylabel()`, and `plt.title()` to add appropriate text to the graph."
   ]
  },
  {
   "cell_type": "code",
   "execution_count": 85,
   "metadata": {
    "id": "6JJAlQorFJF5"
   },
   "outputs": [
    {
     "data": {
      "image/png": "[encoded data removed]",
      "text/plain": [
       "<Figure size 640x480 with 1 Axes>"
      ]
     },
     "metadata": {},
     "output_type": "display_data"
    }
   ],
   "source": [
    "# Plot a bar graph of weekly strike totals in 2018.\n",
    "plt.bar(x = df_by_week_2018['week'], height = df_by_week_2018['number_of_strikes'])\n",
    "plt.plot()\n",
    "plt.xlabel(\"Week number\")\n",
    "plt.ylabel(\"Number of lightning strikes\")\n",
    "plt.title(\"Number of lightning strikes per week (2018)\");"
   ]
  },
  {
   "cell_type": "markdown",
   "metadata": {},
   "source": [
    "### Adjust the graph size"
   ]
  },
  {
   "cell_type": "markdown",
   "metadata": {
    "id": "fusGHYwHFJF5"
   },
   "source": [
    "We now have a graph, but we can't read the x-axis labels. To fix this problem, first we will make it bigger by using `plt.figure(figsize=(20, 5))`. This will change the size to 20 inches wide by 5 inches tall.\n",
    "\n",
    "Next, we will use the `plt.xticks()` function to access the tick labels on the x-axis. Using the `rotation` and `fontsize` keyword arguments, rotate the labels and make the font smaller."
   ]
  },
  {
   "cell_type": "code",
   "execution_count": 97,
   "metadata": {
    "id": "aX3V8u2WFJF6"
   },
   "outputs": [
    {
     "data": {
      "image/png": "[encoded data removed]",
      "text/plain": [
       "<Figure size 1800x500 with 1 Axes>"
      ]
     },
     "metadata": {},
     "output_type": "display_data"
    }
   ],
   "source": [
    "plt.figure(figsize = (18, 5)) # Increase output size.\n",
    "plt.bar(x = df_by_week_2018['week'], height = df_by_week_2018['number_of_strikes'])\n",
    "plt.plot()\n",
    "plt.xlabel(\"Week number\")\n",
    "plt.ylabel(\"Number of lightning strikes\")\n",
    "plt.title(\"Number of lightning strikes per week (2018)\")\n",
    "plt.xticks(rotation = 45, fontsize = 8, horizontalalignment = \"right\") # Rotate x-axis labels and decrease font size.\n",
    "\n",
    "plt.show()"
   ]
  },
  {
   "cell_type": "markdown",
   "metadata": {},
   "source": [
    "## Plot the number of quarterly lightning strikes from 2016–2018"
   ]
  },
  {
   "cell_type": "markdown",
   "metadata": {
    "id": "w4DYsd7HFJF6"
   },
   "source": [
    "Next, let's plot lightning strikes by quarter for the full date range of available data. For a visualization, it will be easiest to work with numbers in millions, such as 25.2 million. As an example, the following code will divide the `number_of_strikes` column by one million."
   ]
  },
  {
   "cell_type": "code",
   "execution_count": 118,
   "metadata": {},
   "outputs": [
    {
     "data": {
      "text/plain": [
       "0    0.000016\n",
       "1    0.000016\n",
       "2    0.000016\n",
       "3    0.000016\n",
       "4    0.000016\n",
       "Name: number_of_strikes, dtype: float64"
      ]
     },
     "execution_count": 118,
     "metadata": {},
     "output_type": "execute_result"
    }
   ],
   "source": [
    "df_by_quarter = df['number_of_strikes'].div(1000000)\n",
    "df_by_quarter.head()"
   ]
  },
  {
   "cell_type": "markdown",
   "metadata": {},
   "source": [
    "### Format the numbers"
   ]
  },
  {
   "cell_type": "markdown",
   "metadata": {},
   "source": [
    "This alone does not help much, because it just moved the decimal to the left. We will need to format the numbers as well.  Let's begin by grouping the data by quarter and summing.\n",
    "\n",
    "Then, we will create a `number_of_strikes_formatted` column in the resulting dataframe by dividing by one million but also rounding to one digit after the decimal point, converting it to a string, and adding \"M\" to the end to represent millions."
   ]
  },
  {
   "cell_type": "code",
   "execution_count": 122,
   "metadata": {},
   "outputs": [
    {
     "data": {
      "text/html": [
       "<div>\n",
       "<style scoped>\n",
       "    .dataframe tbody tr th:only-of-type {\n",
       "        vertical-align: middle;\n",
       "    }\n",
       "\n",
       "    .dataframe tbody tr th {\n",
       "        vertical-align: top;\n",
       "    }\n",
       "\n",
       "    .dataframe thead th {\n",
       "        text-align: right;\n",
       "    }\n",
       "</style>\n",
       "<table border=\"1\" class=\"dataframe\">\n",
       "  <thead>\n",
       "    <tr style=\"text-align: right;\">\n",
       "      <th></th>\n",
       "      <th>quarter</th>\n",
       "      <th>number_of_strikes</th>\n",
       "    </tr>\n",
       "  </thead>\n",
       "  <tbody>\n",
       "    <tr>\n",
       "      <th>0</th>\n",
       "      <td>2016-Q1</td>\n",
       "      <td>2683798</td>\n",
       "    </tr>\n",
       "    <tr>\n",
       "      <th>1</th>\n",
       "      <td>2016-Q2</td>\n",
       "      <td>15084857</td>\n",
       "    </tr>\n",
       "    <tr>\n",
       "      <th>2</th>\n",
       "      <td>2016-Q3</td>\n",
       "      <td>21843820</td>\n",
       "    </tr>\n",
       "    <tr>\n",
       "      <th>3</th>\n",
       "      <td>2016-Q4</td>\n",
       "      <td>1969754</td>\n",
       "    </tr>\n",
       "    <tr>\n",
       "      <th>4</th>\n",
       "      <td>2017-Q1</td>\n",
       "      <td>2444279</td>\n",
       "    </tr>\n",
       "    <tr>\n",
       "      <th>5</th>\n",
       "      <td>2017-Q2</td>\n",
       "      <td>13548585</td>\n",
       "    </tr>\n",
       "    <tr>\n",
       "      <th>6</th>\n",
       "      <td>2017-Q3</td>\n",
       "      <td>17277461</td>\n",
       "    </tr>\n",
       "    <tr>\n",
       "      <th>7</th>\n",
       "      <td>2017-Q4</td>\n",
       "      <td>1824870</td>\n",
       "    </tr>\n",
       "    <tr>\n",
       "      <th>8</th>\n",
       "      <td>2018-Q1</td>\n",
       "      <td>3785528</td>\n",
       "    </tr>\n",
       "    <tr>\n",
       "      <th>9</th>\n",
       "      <td>2018-Q2</td>\n",
       "      <td>12136148</td>\n",
       "    </tr>\n",
       "    <tr>\n",
       "      <th>10</th>\n",
       "      <td>2018-Q3</td>\n",
       "      <td>26863991</td>\n",
       "    </tr>\n",
       "    <tr>\n",
       "      <th>11</th>\n",
       "      <td>2018-Q4</td>\n",
       "      <td>1815322</td>\n",
       "    </tr>\n",
       "  </tbody>\n",
       "</table>\n",
       "</div>"
      ],
      "text/plain": [
       "    quarter  number_of_strikes\n",
       "0   2016-Q1            2683798\n",
       "1   2016-Q2           15084857\n",
       "2   2016-Q3           21843820\n",
       "3   2016-Q4            1969754\n",
       "4   2017-Q1            2444279\n",
       "5   2017-Q2           13548585\n",
       "6   2017-Q3           17277461\n",
       "7   2017-Q4            1824870\n",
       "8   2018-Q1            3785528\n",
       "9   2018-Q2           12136148\n",
       "10  2018-Q3           26863991\n",
       "11  2018-Q4            1815322"
      ]
     },
     "execution_count": 122,
     "metadata": {},
     "output_type": "execute_result"
    }
   ],
   "source": [
    "# Group 2016-2018 data by quarter and sum.\n",
    "df_by_quarter = df.groupby(\"quarter\")[\"number_of_strikes\"].sum().reset_index()\n",
    "df_by_quarter"
   ]
  },
  {
   "cell_type": "code",
   "execution_count": 135,
   "metadata": {},
   "outputs": [
    {
     "data": {
      "text/html": [
       "<div>\n",
       "<style scoped>\n",
       "    .dataframe tbody tr th:only-of-type {\n",
       "        vertical-align: middle;\n",
       "    }\n",
       "\n",
       "    .dataframe tbody tr th {\n",
       "        vertical-align: top;\n",
       "    }\n",
       "\n",
       "    .dataframe thead th {\n",
       "        text-align: right;\n",
       "    }\n",
       "</style>\n",
       "<table border=\"1\" class=\"dataframe\">\n",
       "  <thead>\n",
       "    <tr style=\"text-align: right;\">\n",
       "      <th></th>\n",
       "      <th>quarter</th>\n",
       "      <th>number_of_strikes</th>\n",
       "      <th>number_of_strikes_formatted</th>\n",
       "    </tr>\n",
       "  </thead>\n",
       "  <tbody>\n",
       "    <tr>\n",
       "      <th>0</th>\n",
       "      <td>2016-Q1</td>\n",
       "      <td>2683798</td>\n",
       "      <td>2.7M</td>\n",
       "    </tr>\n",
       "    <tr>\n",
       "      <th>1</th>\n",
       "      <td>2016-Q2</td>\n",
       "      <td>15084857</td>\n",
       "      <td>15.1M</td>\n",
       "    </tr>\n",
       "    <tr>\n",
       "      <th>2</th>\n",
       "      <td>2016-Q3</td>\n",
       "      <td>21843820</td>\n",
       "      <td>21.8M</td>\n",
       "    </tr>\n",
       "    <tr>\n",
       "      <th>3</th>\n",
       "      <td>2016-Q4</td>\n",
       "      <td>1969754</td>\n",
       "      <td>2.0M</td>\n",
       "    </tr>\n",
       "    <tr>\n",
       "      <th>4</th>\n",
       "      <td>2017-Q1</td>\n",
       "      <td>2444279</td>\n",
       "      <td>2.4M</td>\n",
       "    </tr>\n",
       "  </tbody>\n",
       "</table>\n",
       "</div>"
      ],
      "text/plain": [
       "   quarter  number_of_strikes number_of_strikes_formatted\n",
       "0  2016-Q1            2683798                        2.7M\n",
       "1  2016-Q2           15084857                       15.1M\n",
       "2  2016-Q3           21843820                       21.8M\n",
       "3  2016-Q4            1969754                        2.0M\n",
       "4  2017-Q1            2444279                        2.4M"
      ]
     },
     "execution_count": 135,
     "metadata": {},
     "output_type": "execute_result"
    }
   ],
   "source": [
    "# Format as text, in millions.\n",
    "df_by_quarter['number_of_strikes_formatted'] = df_by_quarter['number_of_strikes'].div(1000000).round(1).astype(str) + 'M'\n",
    "df_by_quarter.head()"
   ]
  },
  {
   "cell_type": "markdown",
   "metadata": {},
   "source": [
    "### Add labels"
   ]
  },
  {
   "cell_type": "markdown",
   "metadata": {
    "id": "B1rrBgeAFJF8"
   },
   "source": [
    "Before we start plotting, let's write a function that will help label each bar in the plot with its corresponding number_of_strikes_formatted text. The function uses `plt.text()`, which is a pyplot function whose positional arguments are `x`, `y`, and `s`. `x` represents the x-axis coordinates, `y` represents the y-axis coordinates, and `s` represents the text that we want to appear at these coordinates. \n",
    "\n",
    "**Reference:** [pyplot documentation](https://matplotlib.org/stable/api/_as_gen/matplotlib.pyplot.text.html)."
   ]
  },
  {
   "cell_type": "code",
   "execution_count": 140,
   "metadata": {
    "id": "zm3CnH9sFJF8"
   },
   "outputs": [],
   "source": [
    "def addlabels(x, y, labels):\n",
    "    '''\n",
    "    Iterates over data and plots text labels above each bar of bar graph.\n",
    "    '''\n",
    "    for i in range(len(x)):\n",
    "        plt.text(i, y[i], labels[i], ha = 'center', va = 'bottom')"
   ]
  },
  {
   "cell_type": "markdown",
   "metadata": {},
   "source": [
    "### Plot the bar graph"
   ]
  },
  {
   "cell_type": "markdown",
   "metadata": {
    "id": "Kzr3D8O7FJF-"
   },
   "source": [
    "Next, let's plot the bar graph. "
   ]
  },
  {
   "cell_type": "code",
   "execution_count": 141,
   "metadata": {
    "colab": {
     "base_uri": "https://localhost:8080/",
     "height": 350
    },
    "id": "PEnfe0iCFJF-",
    "outputId": "9d96ed7c-fe51-40a1-f0e5-4971d4188458"
   },
   "outputs": [
    {
     "data": {
      "image/png": "[encoded data removed]",
      "text/plain": [
       "<Figure size 1500x500 with 1 Axes>"
      ]
     },
     "metadata": {},
     "output_type": "display_data"
    }
   ],
   "source": [
    "plt.figure(figsize = (15, 5))\n",
    "plt.bar(x = df_by_quarter['quarter'], height = df_by_quarter['number_of_strikes'])\n",
    "addlabels(df_by_quarter['quarter'], df_by_quarter['number_of_strikes'], df_by_quarter['number_of_strikes_formatted'])\n",
    "plt.plot()\n",
    "plt.xlabel('Quarter')\n",
    "plt.ylabel('Number of lightning strikes')\n",
    "plt.title('Number of lightning strikes per quarter (2016-2018)')\n",
    "plt.show()"
   ]
  },
  {
   "cell_type": "markdown",
   "metadata": {},
   "source": [
    "### Create a grouped bar chart"
   ]
  },
  {
   "cell_type": "markdown",
   "metadata": {
    "id": "-oPhwEBUUJVm",
    "outputId": "deeef78d-718f-47cb-a45b-74d1de19f43f"
   },
   "source": [
    "Now, we will create a grouped bar chart to better compare year-over-year changes each quarter. We can do this by creating two new columns that break out the quarter and year from the `quarter` column. We will use the `quarter` column and take the last two characters to get `quarter_number`, and take the first four characters to get `year`."
   ]
  },
  {
   "cell_type": "code",
   "execution_count": 143,
   "metadata": {
    "id": "M_jVUZIbFJF_"
   },
   "outputs": [
    {
     "data": {
      "text/html": [
       "<div>\n",
       "<style scoped>\n",
       "    .dataframe tbody tr th:only-of-type {\n",
       "        vertical-align: middle;\n",
       "    }\n",
       "\n",
       "    .dataframe tbody tr th {\n",
       "        vertical-align: top;\n",
       "    }\n",
       "\n",
       "    .dataframe thead th {\n",
       "        text-align: right;\n",
       "    }\n",
       "</style>\n",
       "<table border=\"1\" class=\"dataframe\">\n",
       "  <thead>\n",
       "    <tr style=\"text-align: right;\">\n",
       "      <th></th>\n",
       "      <th>quarter</th>\n",
       "      <th>number_of_strikes</th>\n",
       "      <th>number_of_strikes_formatted</th>\n",
       "      <th>quarter_number</th>\n",
       "      <th>year</th>\n",
       "    </tr>\n",
       "  </thead>\n",
       "  <tbody>\n",
       "    <tr>\n",
       "      <th>0</th>\n",
       "      <td>2016-Q1</td>\n",
       "      <td>2683798</td>\n",
       "      <td>2.7M</td>\n",
       "      <td>Q1</td>\n",
       "      <td>2016</td>\n",
       "    </tr>\n",
       "    <tr>\n",
       "      <th>1</th>\n",
       "      <td>2016-Q2</td>\n",
       "      <td>15084857</td>\n",
       "      <td>15.1M</td>\n",
       "      <td>Q2</td>\n",
       "      <td>2016</td>\n",
       "    </tr>\n",
       "    <tr>\n",
       "      <th>2</th>\n",
       "      <td>2016-Q3</td>\n",
       "      <td>21843820</td>\n",
       "      <td>21.8M</td>\n",
       "      <td>Q3</td>\n",
       "      <td>2016</td>\n",
       "    </tr>\n",
       "    <tr>\n",
       "      <th>3</th>\n",
       "      <td>2016-Q4</td>\n",
       "      <td>1969754</td>\n",
       "      <td>2.0M</td>\n",
       "      <td>Q4</td>\n",
       "      <td>2016</td>\n",
       "    </tr>\n",
       "    <tr>\n",
       "      <th>4</th>\n",
       "      <td>2017-Q1</td>\n",
       "      <td>2444279</td>\n",
       "      <td>2.4M</td>\n",
       "      <td>Q1</td>\n",
       "      <td>2017</td>\n",
       "    </tr>\n",
       "  </tbody>\n",
       "</table>\n",
       "</div>"
      ],
      "text/plain": [
       "   quarter  number_of_strikes number_of_strikes_formatted quarter_number  year\n",
       "0  2016-Q1            2683798                        2.7M             Q1  2016\n",
       "1  2016-Q2           15084857                       15.1M             Q2  2016\n",
       "2  2016-Q3           21843820                       21.8M             Q3  2016\n",
       "3  2016-Q4            1969754                        2.0M             Q4  2016\n",
       "4  2017-Q1            2444279                        2.4M             Q1  2017"
      ]
     },
     "execution_count": 143,
     "metadata": {},
     "output_type": "execute_result"
    }
   ],
   "source": [
    "# Create two new columns.\n",
    "df_by_quarter['quarter_number'] = df_by_quarter['quarter'].str[-2:]\n",
    "df_by_quarter['year'] = df_by_quarter['quarter'].str[:4]\n",
    "df_by_quarter.head()"
   ]
  },
  {
   "cell_type": "markdown",
   "metadata": {},
   "source": [
    "### Fill in the chart parameters"
   ]
  },
  {
   "cell_type": "markdown",
   "metadata": {
    "id": "AplCgkQgFJF_"
   },
   "source": [
    "Next, fill in the bar chart parameters. "
   ]
  },
  {
   "cell_type": "code",
   "execution_count": 145,
   "metadata": {},
   "outputs": [
    {
     "data": {
      "text/html": [
       "<div>\n",
       "<style scoped>\n",
       "    .dataframe tbody tr th:only-of-type {\n",
       "        vertical-align: middle;\n",
       "    }\n",
       "\n",
       "    .dataframe tbody tr th {\n",
       "        vertical-align: top;\n",
       "    }\n",
       "\n",
       "    .dataframe thead th {\n",
       "        text-align: right;\n",
       "    }\n",
       "</style>\n",
       "<table border=\"1\" class=\"dataframe\">\n",
       "  <thead>\n",
       "    <tr style=\"text-align: right;\">\n",
       "      <th></th>\n",
       "      <th>quarter</th>\n",
       "      <th>number_of_strikes</th>\n",
       "      <th>number_of_strikes_formatted</th>\n",
       "      <th>quarter_number</th>\n",
       "      <th>year</th>\n",
       "    </tr>\n",
       "  </thead>\n",
       "  <tbody>\n",
       "    <tr>\n",
       "      <th>0</th>\n",
       "      <td>2016-Q1</td>\n",
       "      <td>2683798</td>\n",
       "      <td>2.7M</td>\n",
       "      <td>Q1</td>\n",
       "      <td>2016</td>\n",
       "    </tr>\n",
       "    <tr>\n",
       "      <th>1</th>\n",
       "      <td>2016-Q2</td>\n",
       "      <td>15084857</td>\n",
       "      <td>15.1M</td>\n",
       "      <td>Q2</td>\n",
       "      <td>2016</td>\n",
       "    </tr>\n",
       "    <tr>\n",
       "      <th>2</th>\n",
       "      <td>2016-Q3</td>\n",
       "      <td>21843820</td>\n",
       "      <td>21.8M</td>\n",
       "      <td>Q3</td>\n",
       "      <td>2016</td>\n",
       "    </tr>\n",
       "    <tr>\n",
       "      <th>3</th>\n",
       "      <td>2016-Q4</td>\n",
       "      <td>1969754</td>\n",
       "      <td>2.0M</td>\n",
       "      <td>Q4</td>\n",
       "      <td>2016</td>\n",
       "    </tr>\n",
       "    <tr>\n",
       "      <th>4</th>\n",
       "      <td>2017-Q1</td>\n",
       "      <td>2444279</td>\n",
       "      <td>2.4M</td>\n",
       "      <td>Q1</td>\n",
       "      <td>2017</td>\n",
       "    </tr>\n",
       "    <tr>\n",
       "      <th>5</th>\n",
       "      <td>2017-Q2</td>\n",
       "      <td>13548585</td>\n",
       "      <td>13.5M</td>\n",
       "      <td>Q2</td>\n",
       "      <td>2017</td>\n",
       "    </tr>\n",
       "    <tr>\n",
       "      <th>6</th>\n",
       "      <td>2017-Q3</td>\n",
       "      <td>17277461</td>\n",
       "      <td>17.3M</td>\n",
       "      <td>Q3</td>\n",
       "      <td>2017</td>\n",
       "    </tr>\n",
       "    <tr>\n",
       "      <th>7</th>\n",
       "      <td>2017-Q4</td>\n",
       "      <td>1824870</td>\n",
       "      <td>1.8M</td>\n",
       "      <td>Q4</td>\n",
       "      <td>2017</td>\n",
       "    </tr>\n",
       "    <tr>\n",
       "      <th>8</th>\n",
       "      <td>2018-Q1</td>\n",
       "      <td>3785528</td>\n",
       "      <td>3.8M</td>\n",
       "      <td>Q1</td>\n",
       "      <td>2018</td>\n",
       "    </tr>\n",
       "    <tr>\n",
       "      <th>9</th>\n",
       "      <td>2018-Q2</td>\n",
       "      <td>12136148</td>\n",
       "      <td>12.1M</td>\n",
       "      <td>Q2</td>\n",
       "      <td>2018</td>\n",
       "    </tr>\n",
       "    <tr>\n",
       "      <th>10</th>\n",
       "      <td>2018-Q3</td>\n",
       "      <td>26863991</td>\n",
       "      <td>26.9M</td>\n",
       "      <td>Q3</td>\n",
       "      <td>2018</td>\n",
       "    </tr>\n",
       "    <tr>\n",
       "      <th>11</th>\n",
       "      <td>2018-Q4</td>\n",
       "      <td>1815322</td>\n",
       "      <td>1.8M</td>\n",
       "      <td>Q4</td>\n",
       "      <td>2018</td>\n",
       "    </tr>\n",
       "  </tbody>\n",
       "</table>\n",
       "</div>"
      ],
      "text/plain": [
       "    quarter  number_of_strikes number_of_strikes_formatted quarter_number  \\\n",
       "0   2016-Q1            2683798                        2.7M             Q1   \n",
       "1   2016-Q2           15084857                       15.1M             Q2   \n",
       "2   2016-Q3           21843820                       21.8M             Q3   \n",
       "3   2016-Q4            1969754                        2.0M             Q4   \n",
       "4   2017-Q1            2444279                        2.4M             Q1   \n",
       "5   2017-Q2           13548585                       13.5M             Q2   \n",
       "6   2017-Q3           17277461                       17.3M             Q3   \n",
       "7   2017-Q4            1824870                        1.8M             Q4   \n",
       "8   2018-Q1            3785528                        3.8M             Q1   \n",
       "9   2018-Q2           12136148                       12.1M             Q2   \n",
       "10  2018-Q3           26863991                       26.9M             Q3   \n",
       "11  2018-Q4            1815322                        1.8M             Q4   \n",
       "\n",
       "    year  \n",
       "0   2016  \n",
       "1   2016  \n",
       "2   2016  \n",
       "3   2016  \n",
       "4   2017  \n",
       "5   2017  \n",
       "6   2017  \n",
       "7   2017  \n",
       "8   2018  \n",
       "9   2018  \n",
       "10  2018  \n",
       "11  2018  "
      ]
     },
     "execution_count": 145,
     "metadata": {},
     "output_type": "execute_result"
    }
   ],
   "source": [
    "df_by_quarter"
   ]
  },
  {
   "cell_type": "code",
   "execution_count": 154,
   "metadata": {
    "colab": {
     "base_uri": "https://localhost:8080/",
     "height": 350
    },
    "id": "EVL75ZRpFJF_",
    "outputId": "deeef78d-718f-47cb-a45b-74d1de19f43f",
    "scrolled": false
   },
   "outputs": [
    {
     "data": {
      "image/png": "[encoded data removed]",
      "text/plain": [
       "<Figure size 1500x500 with 1 Axes>"
      ]
     },
     "metadata": {},
     "output_type": "display_data"
    }
   ],
   "source": [
    "plt.figure(figsize = (15, 5))\n",
    "p = sns.barplot(\n",
    "    data = df_by_quarter,\n",
    "    x = 'quarter_number',\n",
    "    y = 'number_of_strikes',\n",
    "    hue = 'year')\n",
    "for b in p.patches:\n",
    "    p.annotate(str(round(b.get_height()/1000000, 1))+'M', \n",
    "                   (b.get_x() + b.get_width() / 2., b.get_height() + 1.2e6), \n",
    "                   ha = 'center', va = 'bottom', \n",
    "                   xytext = (0, -12), \n",
    "                   textcoords = 'offset points')\n",
    "    \n",
    "plt.xlabel(\"Quarter\")\n",
    "plt.ylabel(\"Number of lightning strikes\")\n",
    "plt.title(\"Number of lightning strikes per quarter (2016-2018)\")\n",
    "plt.show()"
   ]
  },
  {
   "cell_type": "markdown",
   "metadata": {},
   "source": [
    "## Conclusion"
   ]
  },
  {
   "cell_type": "markdown",
   "metadata": {
    "id": "LGSryzOLFJF_"
   },
   "source": [
    "**Congratulations!** You've completed this lab. You now understand how to manipulate date strings in Python and should be able to start using it on your own datasets.\n",
    "\n",
    "You may not notice a green check mark next to this item on Coursera's platform. Please continue your progress regardless of the check mark. Just click on the \"save\" icon at the top of this notebook to ensure your work has been logged."
   ]
  }
 ],
 "metadata": {
  "colab": {
   "collapsed_sections": [],
   "provenance": [
    {
     "file_id": "19IGrrvzEh7nvoXs9nBFIrNwEvWd_KyUa",
     "timestamp": 1662732384657
    }
   ]
  },
  "kernelspec": {
   "display_name": "Python 3 (ipykernel)",
   "language": "python",
   "name": "python3"
  },
  "language_info": {
   "codemirror_mode": {
    "name": "ipython",
    "version": 3
   },
   "file_extension": ".py",
   "mimetype": "text/x-python",
   "name": "python",
   "nbconvert_exporter": "python",
   "pygments_lexer": "ipython3",
   "version": "3.11.5"
  },
  "toc": {
   "base_numbering": 1,
   "nav_menu": {},
   "number_sections": true,
   "sideBar": true,
   "skip_h1_title": false,
   "title_cell": "Table of Contents",
   "title_sidebar": "Contents",
   "toc_cell": false,
   "toc_position": {},
   "toc_section_display": true,
   "toc_window_display": false
  }
 },
 "nbformat": 4,
 "nbformat_minor": 1
}
